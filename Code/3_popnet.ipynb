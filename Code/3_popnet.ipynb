{
 "cells": [
  {
   "cell_type": "markdown",
   "metadata": {},
   "source": [
    "## Exercise 1\n",
    "\n",
    "Read the edgelist and the nodelist of the dummy multilayer network, and create the following adjacency matrices:\n",
    "* parent-child\n",
    "* family\n",
    "* household\n",
    "* neighbor\n",
    "* school\n",
    "* work"
   ]
  },
  {
   "cell_type": "markdown",
   "metadata": {},
   "source": [
    "## Exercise 2\n",
    "\n",
    "Using the five main layers (leaving out the parent-child), calculate and visualize the distribution of the degree, and the number of layers a node participates in!"
   ]
  },
  {
   "cell_type": "markdown",
   "metadata": {},
   "source": [
    "## Exercise 3\n",
    "\n",
    "List the parents of the classmates of all the nodes that are currently attending school! Solve the exercise with matrix multiplication! Explain why you might have gotten elements larger than 1 in the multiplication result!"
   ]
  },
  {
   "cell_type": "markdown",
   "metadata": {},
   "source": [
    "## Exercise 4\n",
    "\n",
    "How could you detect parallel edges, e.g. edges that exist in multiple different layers between two nodes? List all such edges with the corresponding layers!"
   ]
  },
  {
   "cell_type": "markdown",
   "metadata": {},
   "source": [
    "## Exercise 5\n",
    "\n",
    "Try to load the network into `pymnet`, and experiment with the visualization. Try to solve the previous exercises using `pymnet`. Attention, this approach won't work for larger networks!"
   ]
  },
  {
   "cell_type": "markdown",
   "metadata": {},
   "source": [
    "## Exercise 6\n",
    "\n",
    "Enumerate the connected components of each layer, calculate their sizes, list them! What do they correspond to?"
   ]
  },
  {
   "cell_type": "markdown",
   "metadata": {},
   "source": [
    "## Exercise 7\n",
    "\n",
    "Let's suppose that all of these people suddenly meet at a festival where they compete in groups with each other. The group assignment is random, there are 5 different groups, and everyone is part of exactly one group.\n",
    "\n",
    "Create such a random assignment! Create the corresponding \"affiliation matrix\"!\n",
    "\n",
    "Create the adjacency matrix of people based on group co-affiliation!"
   ]
  }
 ],
 "metadata": {
  "kernelspec": {
   "display_name": "Python 3 (ipykernel)",
   "language": "python",
   "name": "python3"
  },
  "language_info": {
   "codemirror_mode": {
    "name": "ipython",
    "version": 3
   },
   "file_extension": ".py",
   "mimetype": "text/x-python",
   "name": "python",
   "nbconvert_exporter": "python",
   "pygments_lexer": "ipython3",
   "version": "3.10.5"
  }
 },
 "nbformat": 4,
 "nbformat_minor": 4
}
